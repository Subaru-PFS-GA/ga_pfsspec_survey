{
 "cells": [
  {
   "cell_type": "markdown",
   "metadata": {},
   "source": [
    "# Convert DEIMOS spectra to PFS datamodel FITS files"
   ]
  },
  {
   "cell_type": "code",
   "execution_count": 0,
   "metadata": {},
   "outputs": [],
   "source": [
    "PROJECT_PATH = [\n",
    "    '/home/dobos/project/Subaru-PFS/datamodel/python',\n",
    "    '/home/dobos/project/Subaru-PFS/psf_utils/python'\n",
    "]\n",
    "\n",
    "DATA_PATH = '/datascope/subaru/data/catalogs/deimos/deimos_gc_spectra_mags.h5'\n",
    "OUTPUT_PATH = '/datascope/subaru/user/dobos/data/pfsspec/mock/deimos'\n",
    "\n",
    "ARMS = [ 'r' ]"
   ]
  },
  {
   "cell_type": "code",
   "execution_count": 0,
   "metadata": {},
   "outputs": [],
   "source": [
    "import os\n",
    "from glob import glob\n",
    "import sys\n",
    "import re\n",
    "import logging\n",
    "import numpy as np\n",
    "import pandas as pd\n",
    "import matplotlib as mpl\n",
    "import matplotlib.pyplot as plt\n",
    "from matplotlib.ticker import AutoMinorLocator, MultipleLocator\n",
    "from scipy.interpolate import interp1d\n",
    "import h5py as h5\n",
    "from tqdm.notebook import trange, tqdm\n",
    "from collections.abc import Iterable\n",
    "import pickle\n",
    "import debugpy\n",
    "import cProfile, pstats"
   ]
  },
  {
   "cell_type": "code",
   "execution_count": 0,
   "metadata": {},
   "outputs": [],
   "source": [
    "plt.rc('font', size=7)"
   ]
  },
  {
   "cell_type": "code",
   "execution_count": 0,
   "metadata": {},
   "outputs": [],
   "source": [
    "# Allow load project as module\n",
    "for p in reversed(PROJECT_PATH):\n",
    "    sys.path.insert(0, p)"
   ]
  },
  {
   "cell_type": "code",
   "execution_count": 0,
   "metadata": {},
   "outputs": [],
   "source": [
    "%load_ext autoreload"
   ]
  },
  {
   "cell_type": "code",
   "execution_count": 0,
   "metadata": {},
   "outputs": [],
   "source": [
    "%autoreload 2"
   ]
  },
  {
   "cell_type": "code",
   "execution_count": 0,
   "metadata": {},
   "outputs": [],
   "source": [
    "if 'debug' not in globals():\n",
    "    import debugpy\n",
    "    debugpy.listen((\"localhost\", 5683))\n",
    "    debug = True"
   ]
  },
  {
   "cell_type": "markdown",
   "metadata": {},
   "source": [
    "## Load Deimos spectra from HDF5"
   ]
  },
  {
   "cell_type": "code",
   "execution_count": 0,
   "metadata": {},
   "outputs": [],
   "source": [
    "deimos = h5.File(DATA_PATH, 'r')"
   ]
  },
  {
   "cell_type": "code",
   "execution_count": 0,
   "metadata": {},
   "outputs": [],
   "source": [
    "def print_hdf5_structure(g, prefix=''):\n",
    "    for k in g:\n",
    "        if isinstance(g[k], h5.Group):\n",
    "            print(prefix + k)\n",
    "            print_hdf5_structure(g[k], prefix + '  ')\n",
    "        elif isinstance(g[k], h5.Dataset):\n",
    "            print(prefix + k, g[k].shape, g[k].dtype)\n",
    "\n",
    "print_hdf5_structure(deimos)"
   ]
  },
  {
   "cell_type": "code",
   "execution_count": 0,
   "metadata": {},
   "outputs": [],
   "source": [
    "from pfs.ga.pfsspec.core import Spectrum\n",
    "from pfs.ga.pfsspec.core import Physics"
   ]
  },
  {
   "cell_type": "code",
   "execution_count": 0,
   "metadata": {},
   "outputs": [],
   "source": [
    "def get_spectrum(i):\n",
    "    # Read spectrum into pfsspec object\n",
    "\n",
    "    spec = Spectrum()\n",
    "    spec.id = i\n",
    "    spec.name = str(deimos['objname'][i])\n",
    "    spec.mjd = deimos['mjd'][i]\n",
    "\n",
    "    spec.wave = deimos['spectra']['rest_wvl'][i, :]\n",
    "    # spec.flux = deimos['spectra']['flux'][i, :]\n",
    "    # spec.flux_err = deimos['spectra']['ivar'][i, :] ** (-1 / 2)\n",
    "    spec.mask = deimos['spectra']['mask'][i, :].astype(int)\n",
    "    spec.flux = deimos['spectra']['telldiv'][i, :]\n",
    "    spec.flux_err = deimos['spectra']['telldivivar'][i, :] ** (-1 / 2)\n",
    "\n",
    "    spec.Fe_H = spec.mjd = deimos['measurements']['feh'][i]\n",
    "    spec.Fe_H_err = spec.mjd = deimos['measurements']['feherr'][i]\n",
    "    spec.log_g = spec.mjd = deimos['measurements']['logg'][i]\n",
    "    spec.log_g_err = spec.mjd = deimos['measurements']['loggerr'][i]\n",
    "    spec.T_eff = spec.mjd = deimos['measurements']['teff'][i]\n",
    "    spec.T_eff_err = spec.mjd = deimos['measurements']['tefferr'][i]\n",
    "    spec.a_Fe = spec.mjd = deimos['measurements']['alphafe'][i]\n",
    "    spec.a_Fe_err = spec.mjd = deimos['measurements']['alphafeerr'][i]\n",
    "    spec.Ca_Fe = spec.mjd = deimos['measurements']['cafe'][i]\n",
    "    spec.Ca_Fe_err = spec.mjd = deimos['measurements']['cafeerr'][i]\n",
    "    spec.Mg_Fe = spec.mjd = deimos['measurements']['mgfe'][i]\n",
    "    spec.Mg_Fe_err = spec.mjd = deimos['measurements']['mgfeerr'][i]\n",
    "    spec.Ni_Fe = spec.mjd = deimos['measurements']['nife'][i]\n",
    "    spec.Ni_Fe_err = spec.mjd = deimos['measurements']['nifeerr'][i]\n",
    "    spec.Si_Fe = spec.mjd = deimos['measurements']['sife'][i]\n",
    "    spec.Si_Fe_err = spec.mjd = deimos['measurements']['sifeerr'][i]\n",
    "    spec.Ti_Fe = spec.mjd = deimos['measurements']['tife'][i]\n",
    "    spec.Ti_Fe_err = spec.mjd = deimos['measurements']['tifeerr'][i]\n",
    "    spec.rv = spec.mjd = deimos['measurements']['vhelio'][i]\n",
    "    spec.rv_err = spec.mjd = deimos['measurements']['vhelioerr'][i]\n",
    "\n",
    "    return spec\n"
   ]
  },
  {
   "cell_type": "code",
   "execution_count": 0,
   "metadata": {},
   "outputs": [],
   "source": [
    "s = get_spectrum(10)\n",
    "\n",
    "plt.plot(s.wave, s.flux, lw=0.3)\n",
    "plt.plot(s.wave, s.flux_err, lw=0.3)\n",
    "\n",
    "plt.title(s.name)"
   ]
  },
  {
   "cell_type": "code",
   "execution_count": 0,
   "metadata": {},
   "outputs": [],
   "source": [
    "s.mask"
   ]
  },
  {
   "cell_type": "markdown",
   "metadata": {},
   "source": [
    "## Generate pfsSingle files"
   ]
  },
  {
   "cell_type": "code",
   "execution_count": 0,
   "metadata": {},
   "outputs": [],
   "source": [
    "from pfs.ga.pfsspec.core import Physics"
   ]
  },
  {
   "cell_type": "code",
   "execution_count": 0,
   "metadata": {},
   "outputs": [],
   "source": [
    "from pfs.datamodel import Target, Identity, Observations, MaskHelper\n",
    "from pfs.datamodel import PfsArm, PfsObject, PfsConfig, TargetType, FiberStatus, GuideStars\n",
    "from pfs.datamodel import PfsSingle, PfsMerged\n",
    "from pfs.datamodel import FluxTable\n",
    "from pfs.datamodel.utils import calculatePfsVisitHash"
   ]
  },
  {
   "cell_type": "code",
   "execution_count": 0,
   "metadata": {},
   "outputs": [],
   "source": [
    "designid = 7884270544754596914\n",
    "designname = 'deimos'\n",
    "arms = ''.join([arm[0] for arm in ARMS])"
   ]
  },
  {
   "cell_type": "code",
   "execution_count": 0,
   "metadata": {},
   "outputs": [],
   "source": [
    "N = 10"
   ]
  },
  {
   "cell_type": "code",
   "execution_count": 0,
   "metadata": {},
   "outputs": [],
   "source": [
    "visit = 98765\n",
    "date = '2024-01-03'\n",
    "\n",
    "raboresight = 0.0\n",
    "decboresight = 0.0\n",
    "posang = 0.0\n",
    "\n",
    "fiberid = np.arange(N)          # Just incremental numbers to fake fiber ids\n",
    "tract = np.full((N,), 1)\n",
    "patch = np.full((N,), '1,1')"
   ]
  },
  {
   "cell_type": "code",
   "execution_count": 0,
   "metadata": {},
   "outputs": [],
   "source": [
    "catid = []\n",
    "tract = []\n",
    "patch = []\n",
    "objid = []\n",
    "ra = []\n",
    "dec = []\n",
    "targettype = np.full((N,), TargetType.SCIENCE)\n",
    "fiberStatus = np.full((N,), FiberStatus.GOOD)\n",
    "epoch = np.full((N,), 'J2000.0')\n",
    "pmra = np.full((N,), 0.0)\n",
    "pmdec = np.full((N,), 0.0)\n",
    "parallax = np.full((N,), 1e-8)\n",
    "fiberflux = []\n",
    "\n",
    "proposalid = []\n",
    "obcode = []\n",
    "\n",
    "spectrograph = []\n",
    "fiberid = []\n",
    "pfinominal = []\n",
    "pficenter = []"
   ]
  },
  {
   "cell_type": "code",
   "execution_count": 0,
   "metadata": {},
   "outputs": [],
   "source": [
    "for i in range(N):\n",
    "    spec = { 'r': get_spectrum(i) }\n",
    "    \n",
    "    catid.append(0)                           # Simulated catalog\n",
    "    tract.append(0)\n",
    "    patch.append('1,1')\n",
    "    objid.append(i)\n",
    "    ra.append(0.0)                            # spec[ARMS[0]].ra\n",
    "    dec.append(0.0)                           # spec[ARMS[0]].dec\n",
    "    \n",
    "    fiberflux_dict = {}\n",
    "    for m in ['B', 'H', 'I', 'J', 'K', 'R', 'V']:\n",
    "        fiberflux_dict[m] = Physics.abmag_to_jy(deimos['photometry'][m][i])  # assumes 100% flux in the fiber\n",
    "    fiberflux.append(fiberflux_dict)\n",
    "\n",
    "    proposalid.append('N/A')\n",
    "    obcode.append('N/A')\n",
    "\n",
    "    target = Target(catid[i], tract[i], patch[i], objid[i], ra[i], dec[i], targettype[i], fiberflux[i])\n",
    "    target.identity[\"visit\"] = visit        # For PfsSingle only\n",
    "    \n",
    "    visit_array = np.array([visit])           # Single exposure\n",
    "    spectrograph.append(np.array([0]))\n",
    "    fiberid.append(np.array([i % 2400]))\n",
    "    pfinominal.append(np.array([[0.0, 0.0]]))\n",
    "    pficenter.append(np.array([[0.0, 0.0]]))\n",
    "\n",
    "    observations = Observations(visit_array, np.array([arms]), spectrograph[i], np.array([designid]), fiberid[i], pfinominal[i], pficenter[i])\n",
    "\n",
    "    # Combine arrays\n",
    "    # TODO: don't just concatenate but resample similar to real pfsSingle files\n",
    "\n",
    "    # A to nm\n",
    "    wave = np.concatenate([ 1e-1 * spec[arm].wave for arm in ARMS ])\n",
    "\n",
    "    # Flux and error (sigma)\n",
    "    flux = np.concatenate([ spec[arm].flux for arm in ARMS])\n",
    "    error = np.concatenate([ spec[arm].flux_err for arm in ARMS])\n",
    "    \n",
    "    # Add noise\n",
    "    flux = flux + error * np.random.normal(size=flux.shape)\n",
    "    \n",
    "    # erg/sec/cm2/A to nJy\n",
    "    flux = 10e32 * Physics.flam_to_fnu(wave * 10, flux)\n",
    "    error = 10e32 * Physics.flam_to_fnu(wave * 10, error)\n",
    "\n",
    "    # TODO: save sky model into dataset\n",
    "    sky = np.zeros_like(flux)\n",
    "\n",
    "    # We assume diagonal here but it has to be tridiagonal so just pad the array\n",
    "    # Sigma of simulated spectra is given in same units as flux\n",
    "    covar = np.pad(error[None, :] ** 2, ((1, 1), (0, 0)))\n",
    "    covar2 = np.array([[0.0]])\n",
    "\n",
    "    # TODO: use PFS mask bits\n",
    "    mask = np.concatenate([ spec[arm].mask_as_int() for arm in ARMS])\n",
    "\n",
    "    # PfsSpec flags -- these are 64 bit\n",
    "    # flags = MaskHelper(\n",
    "    #     **{ k[4:]: int(v) for k, v in Spectrum.__dict__.items() if k.startswith('MASK_')}    \n",
    "    # )\n",
    "\n",
    "    # PFS datamodel flags -- these are 32 bit\n",
    "    flags = MaskHelper(\n",
    "        **{'BAD': 0,\n",
    "           'BAD_FIBERTRACE': 11,\n",
    "           'BAD_FLAT': 9,\n",
    "           'BAD_FLUXCAL': 13,\n",
    "           'BAD_SKY': 12,\n",
    "           'CR': 3,\n",
    "           'DETECTED': 5,\n",
    "           'DETECTED_NEGATIVE': 6,\n",
    "           'EDGE': 4,\n",
    "           'FIBERTRACE': 10,\n",
    "           'INTRP': 2,\n",
    "           'IPC': 14,\n",
    "           'NO_DATA': 8,\n",
    "           'REFLINE': 15,\n",
    "           'SAT': 1,\n",
    "           'SUSPECT': 7,\n",
    "           'UNMASKEDNAN': 16}    \n",
    "    )\n",
    "\n",
    "    # These are always the non-resampled values\n",
    "    fluxtable = FluxTable(wave, flux, error, mask, flags=flags)\n",
    "    \n",
    "    single = PfsSingle(target, observations, wave, flux, mask, sky,\n",
    "                          covar, covar2,\n",
    "                          flags=flags,\n",
    "                          metadata=None, fluxTable=fluxtable, notes=None)\n",
    "\n",
    "    # print(pfssingle.observervations)\n",
    "\n",
    "    # Filename is composed by the library but not the path\n",
    "    dir = os.path.join(OUTPUT_PATH, f'pfsSingle/{catid[i]:05d}/{tract[i]:05d}/{patch[i]}')\n",
    "    \n",
    "    if not os.path.isdir(dir):\n",
    "        os.makedirs(dir, exist_ok=True)\n",
    "    \n",
    "    print(dir)\n",
    "    print(single.filenameFormat % single.getIdentity())\n",
    "    \n",
    "    single.write(dirName=dir)\n"
   ]
  },
  {
   "cell_type": "code",
   "execution_count": 0,
   "metadata": {},
   "outputs": [],
   "source": [
    "guidestars = GuideStars(objId=np.array([0]),\n",
    "                        epoch=np.array(['J2016.0']),\n",
    "                        ra=np.array([0.0]),\n",
    "                        dec=np.array([0.0]),\n",
    "                        pmRa=np.array([0.0]),\n",
    "                        pmDec=np.array([0.0]),\n",
    "                        parallax=np.array([0.0]),\n",
    "                        magnitude=np.array([0.0]),\n",
    "                        passband=np.array(['g_gaia']),\n",
    "                        color=np.array([0.0]),\n",
    "                        agId=np.array([0]),\n",
    "                        agX=np.array([0.0]),\n",
    "                        agY=np.array([0.0]),\n",
    "                        telElev=0.0,\n",
    "                        guideStarCatId=0)"
   ]
  },
  {
   "cell_type": "code",
   "execution_count": 0,
   "metadata": {},
   "outputs": [],
   "source": [
    "fiberflux"
   ]
  },
  {
   "cell_type": "code",
   "execution_count": 0,
   "metadata": {},
   "outputs": [],
   "source": [
    "# TODO: Do not assume all flux is in the fiber\n",
    "\n",
    "config = PfsConfig(designid, visit, raboresight, decboresight, posang, arms=arms,\n",
    "                   fiberId=np.array(fiberid), tract=np.array(tract), patch=np.array(patch),\n",
    "                   ra=np.array(ra), dec=np.array(dec),\n",
    "                   catId=np.array(catid), objId=np.array(objid), targetType=np.array(targettype),\n",
    "                   fiberStatus=np.array(fiberStatus),\n",
    "                   epoch=np.array(epoch), pmRa=pmra, pmDec=pmdec, parallax=parallax,\n",
    "                   proposalId=np.array(proposalid),\n",
    "                   obCode=np.array(obcode),\n",
    "                   fiberFlux=[ [ f for _, f in ff.items() ] for ff in fiberflux ],\n",
    "                   psfFlux=[ [ f for _, f in ff.items() ] for ff in fiberflux ],\n",
    "                   totalFlux=[ [ f for _, f in ff.items() ] for ff in fiberflux ],\n",
    "                   fiberFluxErr=[ [ 0.0 for _, f in ff.items() ] for ff in fiberflux ],\n",
    "                   psfFluxErr=[ [ 0.0 for _, f in ff.items() ] for ff in fiberflux ],\n",
    "                   totalFluxErr=[ [ 0.0 for _, f in ff.items() ] for ff in fiberflux ],\n",
    "                   filterNames=[ [ n for n, _ in ff.items() ] for ff in fiberflux ],\n",
    "                   pfiCenter=np.stack(pficenter).squeeze(),\n",
    "                   pfiNominal=np.stack(pfinominal).squeeze(),\n",
    "                   guideStars=guidestars,\n",
    "                   designName=designname\n",
    "                   )\n",
    "\n",
    "# Filename is composed by the library but not the path\n",
    "dir = os.path.join(OUTPUT_PATH, f'pfsConfig/{date}')\n",
    "\n",
    "if not os.path.isdir(dir):\n",
    "    os.makedirs(dir, exist_ok=True)\n",
    "\n",
    "print(dir)\n",
    "print(config.filename)\n",
    "\n",
    "config.write(dirName=dir)"
   ]
  },
  {
   "cell_type": "code",
   "execution_count": 0,
   "metadata": {},
   "outputs": [],
   "source": [
    "spec['mr'].__dict__"
   ]
  },
  {
   "cell_type": "code",
   "execution_count": 0,
   "metadata": {},
   "outputs": [],
   "source": []
  }
 ],
 "metadata": {
  "kernelspec": {
   "display_name": "astro-tf211",
   "language": "python",
   "name": "python3"
  },
  "language_info": {
   "codemirror_mode": {
    "name": "ipython",
    "version": 3
   },
   "file_extension": ".py",
   "mimetype": "text/x-python",
   "name": "python",
   "nbconvert_exporter": "python",
   "pygments_lexer": "ipython3",
   "version": "3.10.9"
  }
 },
 "nbformat": 4,
 "nbformat_minor": 2
}