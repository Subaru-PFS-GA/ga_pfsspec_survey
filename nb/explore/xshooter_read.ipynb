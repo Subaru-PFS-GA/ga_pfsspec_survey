{
 "cells": [
  {
   "cell_type": "code",
   "execution_count": 0,
   "metadata": {},
   "outputs": [],
   "source": [
    "DATA_DIR = '/datascope/subaru/data/catalogs/xshooter/'\n",
    "LIST_FILE = DATA_DIR + '_list.csv'\n",
    "\n",
    "PROJECT_PATH = '/home/dobos/project/ga_isochrones/python:' + \\\n",
    "    '/home/dobos/project/ga_pfsspec_all/python:' + \\\n",
    "    '/home/dobos/project/pysynphot'\n",
    "\n",
    "GRID_PATH = '/datascope/subaru/data/pfsspec/models/stellar/grid/phoenix/phoenix_HiRes'"
   ]
  },
  {
   "cell_type": "markdown",
   "metadata": {},
   "source": [
    "# XShooter DR3\n",
    "\n",
    "Verro et al.\n",
    "* Paper in A&A: https://www.aanda.org/articles/aa/pdf/2022/04/aa42388-21.pdf\n",
    "* Data in Vizier: http://cdsarc.u-strasbg.fr/viz-bin/cat/J/A+A/660/A34\n",
    "\n",
    "Atmospheric parameters in Vizier:\n",
    "* Arentsen+, 2019\n",
    "  * http://vizier.cds.unistra.fr/viz-bin/VizieR-3?-source=J/A%2bA/627/A138/tablea1\n",
    "  * https://cdsarc.cds.unistra.fr/viz-bin/cat/J/A+A/627/A138#/browse\n",
    "\n",
    "This moderate-to-high resolution, near-ultraviolet-to-near-infrared (350–2480 nm, R ∼ 10 000) spectral library is composed of 830 stellar spectra of 683 stars. \n",
    "\n",
    "CSV file donwloaded from Vizier using the SQL search tool with the query:\n",
    "\n",
    "```sql\n",
    "SELECT [default] FROM obscore\n",
    "WHERE obs_collection='J/A+A/660/A34'\n",
    "```"
   ]
  },
  {
   "cell_type": "code",
   "execution_count": 0,
   "metadata": {},
   "outputs": [],
   "source": [
    "import os, sys, re, glob\n",
    "import requests\n",
    "import numpy as np\n",
    "import pandas as pd\n",
    "import matplotlib.pyplot as plt\n",
    "from tqdm import notebook as tqdm\n",
    "from astropy.io import fits\n",
    "from glob import glob"
   ]
  },
  {
   "cell_type": "code",
   "execution_count": 0,
   "metadata": {},
   "outputs": [],
   "source": [
    "# Allow load project as module\n",
    "for p in reversed(PROJECT_PATH.split(':')):\n",
    "    sys.path.insert(0, p)\n",
    "\n",
    "os.environ['PYTHONPATH'] = PROJECT_PATH.split(':')[0]"
   ]
  },
  {
   "cell_type": "code",
   "execution_count": 0,
   "metadata": {},
   "outputs": [],
   "source": [
    "os.environ['PYTHONPATH']"
   ]
  },
  {
   "cell_type": "code",
   "execution_count": 0,
   "metadata": {},
   "outputs": [],
   "source": [
    "%matplotlib inline"
   ]
  },
  {
   "cell_type": "markdown",
   "metadata": {},
   "source": [
    "# Load xshooter object list"
   ]
  },
  {
   "cell_type": "code",
   "execution_count": 0,
   "metadata": {},
   "outputs": [],
   "source": [
    "from astropy import units as u\n",
    "from astropy.coordinates import SkyCoord, Angle\n",
    "\n",
    "fn = os.path.join(DATA_DIR, 'table.dat')\n",
    "cols = {\n",
    "    'obj_id':       (0, 25,     np.str),\n",
    "    'uncert':       (25, 26,    np.str),\n",
    "    'ra':           (27, 40,    np.str),\n",
    "    'dec':          (40, 51,    np.str),\n",
    "    'xsl_id':       (53, 58,    np.str),\n",
    "    'mjd':          (59, 69,    np.float),\n",
    "    'arm_missing':  (70, 77,    np.str),\n",
    "    'file_uvb':     (78, 118,   np.str),\n",
    "    'file_vis':     (119, 159,  np.str),\n",
    "    'file_nir':     (160, 200,  np.str),\n",
    "    'comments':     (201, 401,  np.str)}\n",
    "table = pd.read_fwf(fn, header=None,\n",
    "    names=[ k for k in cols.keys() ],\n",
    "    dtype={ k: cols[k][2] for k in cols.keys() },\n",
    "    colspecs=[ (cols[k][0], cols[k][1]) for k in cols.keys() ])\n",
    "\n",
    "table['xsl_id'] = table['xsl_id'].map(lambda x: int(x[1:]))\n",
    "table['ra'] = table['ra'].map(lambda ra: Angle(ra, unit=u.hourangle).deg)\n",
    "table['dec'] = table['dec'].map(lambda dec: Angle(dec, unit=u.degree).deg)"
   ]
  },
  {
   "cell_type": "code",
   "execution_count": 0,
   "metadata": {},
   "outputs": [],
   "source": [
    "table"
   ]
  },
  {
   "cell_type": "markdown",
   "metadata": {},
   "source": [
    "# Load Arentsen+19 data"
   ]
  },
  {
   "cell_type": "code",
   "execution_count": 0,
   "metadata": {},
   "outputs": [],
   "source": [
    "fn = os.path.join(DATA_DIR, 'Arentsen+19/tablea1.dat')\n",
    "tablea1 = pd.read_fwf(fn, header=None,\n",
    "    names=[\n",
    "        'HNAME',\n",
    "        'xsl_id',  \n",
    "        'Teffuvb',\n",
    "        'logguvb',\n",
    "        '[Fe/H]uvb',\n",
    "        'Teffvis',\n",
    "        'loggvis',\n",
    "        '[Fe/H]vis',\n",
    "        'Teff',      \n",
    "        'e_Teff',     \n",
    "        'logg',\n",
    "        'e_logg',\n",
    "        '[Fe/H]',\n",
    "        'e_[Fe/H]',\n",
    "        'f_Teff',\n",
    "        'f_logg',\n",
    "        'f_[Fe/H]',\n",
    "        'Cflag',\n",
    "    ],\n",
    "    dtype={\n",
    "        'HNAME': np.str,\n",
    "        'xsl_id': np.int,  \n",
    "        'Teffuvb': np.float,\n",
    "        'logguvb': np.float,\n",
    "        '[Fe/H]uvb': np.float,\n",
    "        'Teffvis': np.float,\n",
    "        'loggvis': np.float,\n",
    "        '[Fe/H]vis': np.float,\n",
    "        'Teff': np.float,      \n",
    "        'e_Teff': np.float,\n",
    "        'logg': np.float,\n",
    "        'e_logg': np.float,\n",
    "        '[Fe/H]': np.float,\n",
    "        'e_[Fe/H]': np.float,\n",
    "        'f_Teff': np.str,\n",
    "        'f_logg': np.str,\n",
    "        'f_[Fe/H]': np.str,\n",
    "        'Cflag': np.str,\n",
    "    },\n",
    "    colspecs=[\n",
    "        (0, 24),\n",
    "        (26, 29),\n",
    "        (30, 35),\n",
    "        (36, 41),\n",
    "        (42, 47),\n",
    "        (48, 53),\n",
    "        (54, 59),\n",
    "        (60, 65),\n",
    "        (66, 71),\n",
    "        (72, 76),\n",
    "        (77, 82),\n",
    "        (83, 87),\n",
    "        (88, 93),\n",
    "        (94, 98),\n",
    "        ##\n",
    "        (99, 100),\n",
    "        (101, 102),\n",
    "        (103, 104),\n",
    "        (105, 106),\n",
    "    ])\n",
    "\n",
    "tablea1.shape"
   ]
  },
  {
   "cell_type": "code",
   "execution_count": 0,
   "metadata": {},
   "outputs": [],
   "source": [
    "#tablea1.head(3)\n",
    "tablea1.tail(5)"
   ]
  },
  {
   "cell_type": "markdown",
   "metadata": {},
   "source": [
    "# Load file list"
   ]
  },
  {
   "cell_type": "code",
   "execution_count": 0,
   "metadata": {},
   "outputs": [],
   "source": [
    "ff = glob(os.path.join(DATA_DIR, 'fits/*.fits'))\n",
    "ff = [ os.path.basename(f) for f in ff ]\n",
    "\n",
    "files = []\n",
    "for f in ff:\n",
    "    files.append({ \n",
    "                'xsl_id': int(re.search('(\\d+)', f).group(0)),\n",
    "                'file_merged': f\n",
    "                })\n",
    "\n",
    "files = pd.DataFrame(files)\n",
    "files"
   ]
  },
  {
   "cell_type": "markdown",
   "metadata": {},
   "source": [
    "# Read all FITS headers and write to file"
   ]
  },
  {
   "cell_type": "code",
   "execution_count": 0,
   "metadata": {},
   "outputs": [],
   "source": [
    "fn = os.path.join(DATA_DIR, '_headers.csv')\n",
    "if not os.path.isfile(fn):\n",
    "    ff = glob(os.path.join(DATA_DIR, 'fits/*.fits'))\n",
    "    fitsdata = None\n",
    "\n",
    "    for f in ff:\n",
    "        hdus = fits.open(f, memmap=False)\n",
    "        headers = { k: hdus[0].header[k] for k in hdus[0].header.keys() }\n",
    "        headers['filename'] = os.path.split(f)[1]\n",
    "        \n",
    "        if fitsdata is None:\n",
    "            fitsdata = pd.DataFrame(headers, index=['XSL_ID'])\n",
    "        else:\n",
    "            fitsdata = fitsdata.append(headers, ignore_index=True)\n",
    "\n",
    "    if not os.path.isfile(fn):\n",
    "        fitsdata.to_csv(fn)\n",
    "else:\n",
    "    fitsdata = pd.read_csv(fn)\n",
    "\n",
    "\n",
    "fitsdata['xsl_id'] = fitsdata['XSL_ID'].map(lambda x: int(re.search('(\\d+)', x).group(0)))\n",
    "fitsdata.shape"
   ]
  },
  {
   "cell_type": "code",
   "execution_count": 0,
   "metadata": {},
   "outputs": [],
   "source": [
    "fitsdata.columns"
   ]
  },
  {
   "cell_type": "code",
   "execution_count": 0,
   "metadata": {},
   "outputs": [],
   "source": [
    "list(fitsdata.iloc[13])"
   ]
  },
  {
   "cell_type": "markdown",
   "metadata": {},
   "source": [
    "# Join tables to get file names and physical parameters"
   ]
  },
  {
   "cell_type": "code",
   "execution_count": 0,
   "metadata": {},
   "outputs": [],
   "source": [
    "xsl = pd.merge(\n",
    "    pd.merge(table, tablea1, left_on='xsl_id', right_on='xsl_id'),\n",
    "    pd.merge(files, fitsdata, left_on='file_merged', right_on='filename'),\n",
    "    left_on='xsl_id', right_on='xsl_id_x')[['xsl_id', 'obj_id', 'filename', '[Fe/H]uvb', 'Teffuvb', 'logguvb', 'SNR']]"
   ]
  },
  {
   "cell_type": "code",
   "execution_count": 0,
   "metadata": {},
   "outputs": [],
   "source": [
    "xsl"
   ]
  },
  {
   "cell_type": "code",
   "execution_count": 0,
   "metadata": {},
   "outputs": [],
   "source": [
    "from matplotlib.ticker import ScalarFormatter\n",
    "\n",
    "f, ax = plt.subplots(1, 1, figsize=(3.4, 3.4), dpi=240)\n",
    "\n",
    "l = ax.scatter(xsl['Teffuvb'], xsl['logguvb'], c=xsl['[Fe/H]uvb'], s=1, cmap='jet')\n",
    "ax.invert_xaxis()\n",
    "ax.invert_yaxis()\n",
    "ax.set_xscale('log')\n",
    "ax.set_xlim(11000, None)\n",
    "#ax.xaxis.set_major_formatter(ScalarFormatter())\n",
    "#ax.xaxis.set_minor_formatter(ScalarFormatter())\n",
    "ax.set_xlabel(r'$T_\\mathrm{eff}$')\n",
    "ax.set_ylabel(r'$\\log\\,g$')\n",
    "\n",
    "f.colorbar(l)"
   ]
  },
  {
   "cell_type": "markdown",
   "metadata": {},
   "source": [
    "# Read FITS and plot"
   ]
  },
  {
   "cell_type": "code",
   "execution_count": 0,
   "metadata": {},
   "outputs": [],
   "source": [
    "mask = (xsl['[Fe/H]uvb'] < -1) & (xsl['logguvb'] < 3) & (xsl['Teffuvb'] < 6000)\n",
    "xsl[mask]"
   ]
  },
  {
   "cell_type": "code",
   "execution_count": 0,
   "metadata": {},
   "outputs": [],
   "source": [
    "fn = os.path.join(DATA_DIR, 'fits/xsl_spectrum_X0442_merged.fits')\n",
    "hdus = fits.open(fn, memmap=False)\n",
    "for h in hdus:\n",
    "    print(h)"
   ]
  },
  {
   "cell_type": "code",
   "execution_count": 0,
   "metadata": {},
   "outputs": [],
   "source": [
    "hdus[0].header"
   ]
  },
  {
   "cell_type": "code",
   "execution_count": 0,
   "metadata": {},
   "outputs": [],
   "source": [
    "hdus[0].header['XSL_ID'], hdus[0].header['OBJECT'], hdus[0].header['SNR'], hdus[0].header['SPEC_RES']\n",
    "\n",
    "\n",
    "# BARY_COR      / Barycentric radial velocity correction value \n",
    "# REST_VIS      / VIS cz value in km/s \n",
    "# REST_UVB      / UVB cz value in km/s \n",
    "# AV_VAL        / Total extinction in V"
   ]
  },
  {
   "cell_type": "code",
   "execution_count": 0,
   "metadata": {},
   "outputs": [],
   "source": [
    "hdus[1].data.names"
   ]
  },
  {
   "cell_type": "code",
   "execution_count": 0,
   "metadata": {},
   "outputs": [],
   "source": [
    "wave = hdus[1].data['WAVE']\n",
    "flux = hdus[1].data['FLUX']\n",
    "flux_dr = hdus[1].data['FLUX_DR'] if 'FLUX_DR' in hdus[1].data.names else None      # dereddened flux?\n",
    "flux_err = hdus[1].data['ERR']"
   ]
  },
  {
   "cell_type": "code",
   "execution_count": 0,
   "metadata": {},
   "outputs": [],
   "source": [
    "flux, flux_dr"
   ]
  },
  {
   "cell_type": "code",
   "execution_count": 0,
   "metadata": {},
   "outputs": [],
   "source": [
    "f, ax = plt.subplots(1, 1, figsize=(4, 3), dpi=240)\n",
    "\n",
    "#mask = (790 <= wave) & (wave <= 796)\n",
    "mask = np.full_like(wave, True, dtype=np.bool)\n",
    "print(mask.sum())\n",
    "\n",
    "ax.plot(wave[mask], flux_dr[mask], lw=0.3)\n",
    "ax.plot(wave[mask], flux[mask], lw=0.3)\n",
    "ax.plot(wave[mask], flux_err[mask], lw=0.3)\n",
    "\n",
    "ax.set_ylim(0, 1.1 * np.quantile(flux_dr[mask], 0.99))\n",
    "\n",
    "ax.set_xlabel('wavelength [nm]')\n",
    "ax.set_ylabel('flux [erg s-1 cm-2 A-1]')\n",
    "\n",
    "ax.set_title('{}, SNR={:.2f}'.format(hdus[0].header['HNAME'], hdus[0].header['SNR']))\n",
    "\n",
    "ax.grid()"
   ]
  },
  {
   "cell_type": "markdown",
   "metadata": {},
   "source": [
    "# Spectral resolution"
   ]
  },
  {
   "cell_type": "code",
   "execution_count": 0,
   "metadata": {},
   "outputs": [],
   "source": [
    "wref = (0.5 * (wave[1:] + wave[:-1]))\n",
    "\n",
    "mask = (700 <= wref) & (wref <= 900)\n",
    "\n",
    "R = wref / np.diff(wave)\n",
    "R[mask].mean(), R[mask].std()"
   ]
  },
  {
   "cell_type": "code",
   "execution_count": 0,
   "metadata": {},
   "outputs": [],
   "source": [
    "f, ax = plt.subplots(1, 1, figsize=(4, 3), dpi=240)\n",
    "\n",
    "ax.plot(wref, R, lw=0.5)\n",
    "\n",
    "ax.set_ylim(0, 50000)\n",
    "ax.grid()"
   ]
  },
  {
   "cell_type": "code",
   "execution_count": 0,
   "metadata": {},
   "outputs": [],
   "source": [
    "f, ax = plt.subplots(1, 1, figsize=(4, 3), dpi=240)\n",
    "\n",
    "ax.plot(wref, np.diff(wave), lw=0.5)\n",
    "\n",
    "#ax.set_ylim(0, 50000)\n",
    "ax.grid()"
   ]
  },
  {
   "cell_type": "code",
   "execution_count": 0,
   "metadata": {},
   "outputs": [],
   "source": []
  },
  {
   "cell_type": "code",
   "execution_count": 0,
   "metadata": {},
   "outputs": [],
   "source": []
  },
  {
   "cell_type": "code",
   "execution_count": 0,
   "metadata": {},
   "outputs": [],
   "source": []
  },
  {
   "cell_type": "code",
   "execution_count": 0,
   "metadata": {},
   "outputs": [],
   "source": []
  },
  {
   "cell_type": "code",
   "execution_count": 0,
   "metadata": {},
   "outputs": [],
   "source": []
  },
  {
   "cell_type": "code",
   "execution_count": 0,
   "metadata": {},
   "outputs": [],
   "source": []
  },
  {
   "cell_type": "code",
   "execution_count": 0,
   "metadata": {},
   "outputs": [],
   "source": []
  },
  {
   "cell_type": "code",
   "execution_count": 0,
   "metadata": {},
   "outputs": [],
   "source": []
  },
  {
   "cell_type": "code",
   "execution_count": 0,
   "metadata": {},
   "outputs": [],
   "source": []
  },
  {
   "cell_type": "markdown",
   "metadata": {},
   "source": [
    "# Read file list"
   ]
  },
  {
   "cell_type": "code",
   "execution_count": 0,
   "metadata": {},
   "outputs": [],
   "source": [
    "df = pd.read_csv(LIST_FILE)\n",
    "df['xsl_id'] = df['obs_id'].map(lambda x: int(re.search('(\\d+)', x).group(0)))\n",
    "df.shape"
   ]
  },
  {
   "cell_type": "code",
   "execution_count": 0,
   "metadata": {},
   "outputs": [],
   "source": [
    "df.columns"
   ]
  },
  {
   "cell_type": "code",
   "execution_count": 0,
   "metadata": {},
   "outputs": [],
   "source": [
    "len(df['obs_id'].unique())"
   ]
  },
  {
   "cell_type": "code",
   "execution_count": 0,
   "metadata": {},
   "outputs": [],
   "source": [
    "df.head(3)"
   ]
  },
  {
   "cell_type": "markdown",
   "metadata": {},
   "source": [
    "# Download data"
   ]
  },
  {
   "cell_type": "code",
   "execution_count": 0,
   "metadata": {},
   "outputs": [],
   "source": [
    "t = tqdm.tqdm(total=df.shape[0])\n",
    "for i, r in df.iterrows():\n",
    "    url = r['access_url']\n",
    "    fn = os.path.join(DATA_DIR, 'fits', r['obs_id'])\n",
    "    if not os.path.isfile(fn):\n",
    "        res = requests.get(url)\n",
    "        with open(fn, 'wb') as f:\n",
    "            f.write(res.content)\n",
    "    t.update(1)"
   ]
  },
  {
   "cell_type": "code",
   "execution_count": 0,
   "metadata": {},
   "outputs": [],
   "source": [
    "list(df['target_name'])"
   ]
  },
  {
   "cell_type": "code",
   "execution_count": 0,
   "metadata": {},
   "outputs": [],
   "source": []
  }
 ],
 "metadata": {
  "kernelspec": {
   "display_name": "Python 3.7.6 ('astro-dnn')",
   "language": "python",
   "name": "python3"
  },
  "language_info": {
   "codemirror_mode": {
    "name": "ipython",
    "version": 3
   },
   "file_extension": ".py",
   "mimetype": "text/x-python",
   "name": "python",
   "nbconvert_exporter": "python",
   "pygments_lexer": "ipython3",
   "version": "3.7.6"
  },
  "vscode": {
   "interpreter": {
    "hash": "5a67ff4efb25b8aabbb759a9c23213a4102b92e186db45108ff57ab5b324cee0"
   }
  }
 },
 "nbformat": 4,
 "nbformat_minor": 2
}