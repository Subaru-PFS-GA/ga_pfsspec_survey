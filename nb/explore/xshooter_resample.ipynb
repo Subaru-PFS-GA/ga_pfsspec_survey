{
 "cells": [
  {
   "cell_type": "code",
   "execution_count": 0,
   "metadata": {},
   "outputs": [],
   "source": [
    "DATA_DIR = '/datascope/subaru/data/catalogs/xshooter/'\n",
    "LIST_FILE = DATA_DIR + '_list.csv'\n",
    "\n",
    "PROJECT_PATH = '/home/dobos/project/ga_isochrones/python:' + \\\n",
    "    '/home/dobos/project/ga_pfsspec_all/python:' + \\\n",
    "    '/home/dobos/project/pysynphot'\n",
    "\n",
    "GRID_PATH = '/datascope/subaru/data/pfsspec/models/stellar/grid/phoenix/phoenix_HiRes'\n",
    "\n",
    "PSF_PATH = '/datascope/subaru/data/pfsspec/subaru/pfs/psf/import/{}.2'\n",
    "DETECTOR_PATH = '/datascope/subaru/data/pfsspec/subaru/pfs/arms/{}.json'\n",
    "DETECTORMAP_PATH = '/datascope/subaru/data/pfsspec/drp_pfs_data/detectorMap/detectorMap-sim-{}1.fits'\n",
    "\n",
    "ARMS = ['b', 'r', 'n', 'mr']"
   ]
  },
  {
   "cell_type": "code",
   "execution_count": 0,
   "metadata": {},
   "outputs": [],
   "source": [
    "import os, sys, re, glob\n",
    "import requests\n",
    "import numpy as np\n",
    "import pandas as pd\n",
    "import matplotlib.pyplot as plt\n",
    "from tqdm import notebook as tqdm\n",
    "from astropy.io import fits\n",
    "from glob import glob"
   ]
  },
  {
   "cell_type": "code",
   "execution_count": 0,
   "metadata": {},
   "outputs": [],
   "source": [
    "# Allow load project as module\n",
    "for p in reversed(PROJECT_PATH.split(':')):\n",
    "    sys.path.insert(0, p)\n",
    "\n",
    "os.environ['PYTHONPATH'] = PROJECT_PATH.split(':')[0]"
   ]
  },
  {
   "cell_type": "code",
   "execution_count": 0,
   "metadata": {},
   "outputs": [],
   "source": [
    "%matplotlib inline"
   ]
  },
  {
   "cell_type": "code",
   "execution_count": 0,
   "metadata": {},
   "outputs": [],
   "source": [
    "%load_ext autoreload"
   ]
  },
  {
   "cell_type": "code",
   "execution_count": 0,
   "metadata": {},
   "outputs": [],
   "source": [
    "%autoreload 2"
   ]
  },
  {
   "cell_type": "markdown",
   "metadata": {},
   "source": [
    "# Load model grid"
   ]
  },
  {
   "cell_type": "code",
   "execution_count": 0,
   "metadata": {},
   "outputs": [],
   "source": [
    "from pfs.ga.pfsspec.core.grid import ArrayGrid\n",
    "from pfs.ga.pfsspec.stellar.grid import ModelGrid\n",
    "from pfs.ga.pfsspec.stellar.grid.bosz import Bosz\n",
    "from pfs.ga.pfsspec.stellar.grid.phoenix import Phoenix\n",
    "\n",
    "fn = os.path.join(GRID_PATH, 'spectra.h5')\n",
    "grid = ModelGrid(Phoenix(), ArrayGrid)\n",
    "grid.preload_arrays = False\n",
    "grid.load(fn, format='h5')"
   ]
  },
  {
   "cell_type": "markdown",
   "metadata": {},
   "source": [
    "# Load data"
   ]
  },
  {
   "cell_type": "code",
   "execution_count": 0,
   "metadata": {},
   "outputs": [],
   "source": [
    "from pfs.ga.pfsspec.survey.xsl import XslSpectrum, XslSurvey"
   ]
  },
  {
   "cell_type": "code",
   "execution_count": 0,
   "metadata": {},
   "outputs": [],
   "source": [
    "xshooter = XslSurvey()\n",
    "xshooter.load(os.path.join(DATA_DIR, 'xsl.dat'))"
   ]
  },
  {
   "cell_type": "code",
   "execution_count": 0,
   "metadata": {},
   "outputs": [],
   "source": [
    "# Spectra that are dereddened / slit corrected\n",
    "# for i in range(len(xshooter.spectra)):\n",
    "    # if hasattr(xshooter.spectra[i], 'flux_dered') and xshooter.spectra[i].flux_dered is not None:\n",
    "    #     print(i)\n",
    "    # if hasattr(xshooter.spectra[i], 'flux_sc') and xshooter.spectra[i].flux_sc is not None:\n",
    "    #     print(i)"
   ]
  },
  {
   "cell_type": "code",
   "execution_count": 0,
   "metadata": {},
   "outputs": [],
   "source": [
    "spec = xshooter.spectra[12]\n",
    "\n",
    "f, ax = plt.subplots(1, 1, figsize=(3.4, 2.5), dpi=240)\n",
    "\n",
    "#mask = (790 <= wave) & (wave <= 796)\n",
    "mask = np.full_like(spec.wave, True, dtype=np.bool)\n",
    "\n",
    "ax.plot(spec.wave, spec.flux, '-k', lw=0.5)\n",
    "ax.plot(spec.wave, spec.flux_err, '-r', lw=0.5)\n",
    "if spec.flux_dered is not None:\n",
    "    ax.plot(spec.wave, spec.flux_dered, '-b', lw=0.5)\n",
    "if hasattr(spec, 'flux_sc') and spec.flux_sc is not None:\n",
    "    ax.plot(spec.wave, spec.flux_sc, '-g', lw=0.5)\n",
    "\n",
    "ax.set_ylim(0, 1.5 * np.nanquantile(spec.flux[mask], 0.99))"
   ]
  },
  {
   "cell_type": "code",
   "execution_count": 0,
   "metadata": {},
   "outputs": [],
   "source": [
    "from matplotlib.ticker import ScalarFormatter\n",
    "\n",
    "f, ax = plt.subplots(1, 1, figsize=(3.4, 3.4), dpi=240)\n",
    "\n",
    "l = ax.scatter(xshooter.params['T_eff'], xshooter.params['log_g'], c=xshooter.params['Fe_H'], s=1, cmap='jet')\n",
    "ax.invert_xaxis()\n",
    "ax.invert_yaxis()\n",
    "ax.set_xscale('log')\n",
    "ax.set_xlim(11000, None)\n",
    "#ax.xaxis.set_major_formatter(ScalarFormatter())\n",
    "#ax.xaxis.set_minor_formatter(ScalarFormatter())\n",
    "ax.set_xlabel(r'$T_\\mathrm{eff}$')\n",
    "ax.set_ylabel(r'$\\log\\,g$')\n",
    "\n",
    "f.colorbar(l)"
   ]
  },
  {
   "cell_type": "markdown",
   "metadata": {},
   "source": [
    "# Low metallicity RGB stars"
   ]
  },
  {
   "cell_type": "code",
   "execution_count": 0,
   "metadata": {},
   "outputs": [],
   "source": [
    "mask = (xshooter.params['Fe_H'] < -1.5) & (xshooter.params['log_g'] < 3.5) & (xshooter.params['T_eff'] < 6500)\n",
    "mask.sum()"
   ]
  },
  {
   "cell_type": "code",
   "execution_count": 0,
   "metadata": {},
   "outputs": [],
   "source": [
    "np.where(mask)"
   ]
  },
  {
   "cell_type": "markdown",
   "metadata": {},
   "source": [
    "# Instrumental resolution\n",
    "\n",
    "Vernet et al. (2011), Table 4\n",
    "\n",
    "* https://www.eso.org/sci/facilities/paranal/instruments/xshooter/doc/xshooter_Vernet2011.pdf\n",
    "\n",
    "XSL observations\n",
    "\n",
    "\"The narrow-slit\n",
    "widths for the UVB, VIS, and NIR arms of X-shooter were 0\".5, 0\".7, and 0\".6, resulting in resolving powers of R = 9 793, 11 573 and 7 956, respectively. We took wide-slit spectra of the targets\n",
    "immediately after the narrow-slit exposure, using a 5\" wide slit, to flux calibrate the spectra\"\n",
    "\n",
    "Approximate coverage\n",
    "\n",
    "* UVB: 320 - 540 nm, R = 9793\n",
    "* VIS: 550 - 1000 nm, R = 11573\n",
    "* NIR: 1000 - 2500 nm, R = 7956\n",
    "\n",
    "The PFS arms, as comparison\n",
    "\n",
    "* B: 380 - 650 nm, R =\n",
    "* R: 630 - 970 nm, R =\n",
    "* N: 940 - 1260 nm, R =\n",
    "* MR: 710 - 8850 nm, R ="
   ]
  },
  {
   "cell_type": "code",
   "execution_count": 0,
   "metadata": {},
   "outputs": [],
   "source": [
    "# X-Shooter sigma\n",
    "\n",
    "def xsl_sigma(wave):\n",
    "    fwhm = np.full_like(wave, np.nan)\n",
    "\n",
    "    masks = [\n",
    "        (3200 <= wave) & (wave < 5500),\n",
    "        (5500 <= wave) & (wave < 10000),\n",
    "        (10000 <= wave) & (wave < 25000)\n",
    "    ]\n",
    "    res = [ 9793, 11573, 7956 ]\n",
    "\n",
    "    for mask, r in zip(masks, res):\n",
    "        fwhm[mask] = wave[mask] / r\n",
    "\n",
    "    return fwhm / (2 * np.sqrt(2 * np.log(2)))"
   ]
  },
  {
   "cell_type": "code",
   "execution_count": 0,
   "metadata": {},
   "outputs": [],
   "source": [
    "# Load PFS kernel model (ETC)\n",
    "\n",
    "from pfs.ga.pfsspec.core.obsmod.psf import GaussPsf, PcaPsf\n",
    "\n",
    "gauss_psf = {}\n",
    "for arm in ARMS:\n",
    "    psf = GaussPsf()\n",
    "    psf.load(os.path.join(PSF_PATH.format(arm), 'gauss.h5'), format='h5')\n",
    "    gauss_psf[arm] = psf\n"
   ]
  },
  {
   "cell_type": "code",
   "execution_count": 0,
   "metadata": {},
   "outputs": [],
   "source": [
    "f, ax = plt.subplots(1, 1, figsize=(3.4, 2.5), dpi=240)\n",
    "\n",
    "for arm in ARMS:\n",
    "    ax.plot(gauss_psf[arm].wave, gauss_psf[arm].sigma, lw=0.5)\n",
    "    ax.plot(gauss_psf[arm].wave, xsl_sigma(gauss_psf[arm].wave), '--k', lw=0.5)\n",
    "\n",
    "    ax.plot(gauss_psf[arm].wave, np.sqrt(gauss_psf[arm].sigma**2 - xsl_sigma(gauss_psf[arm].wave)**2), '-.k', lw=0.5)\n",
    "\n",
    "ax.grid()\n",
    "\n",
    "ax.set_xlabel('wavelength [A]')\n",
    "ax.set_ylabel('LSF sigma')"
   ]
  },
  {
   "cell_type": "markdown",
   "metadata": {},
   "source": [
    "# Convolve and resample"
   ]
  },
  {
   "cell_type": "code",
   "execution_count": 0,
   "metadata": {},
   "outputs": [],
   "source": [
    "spec = xshooter.spectra[12]\n",
    "\n",
    "mask = (spec.flux_err > 0)\n",
    "snr = np.median(spec.flux[mask] / spec.flux_err[mask])\n",
    "\n",
    "spec.snr, snr"
   ]
  },
  {
   "cell_type": "code",
   "execution_count": 0,
   "metadata": {},
   "outputs": [],
   "source": [
    "deg_psf = {}\n",
    "for arm in ARMS:\n",
    "    psf = GaussPsf(orig=gauss_psf[arm])\n",
    "    psf.sigma = np.sqrt(gauss_psf[arm].sigma**2 - xsl_sigma(gauss_psf[arm].wave)**2)\n",
    "    deg_psf[arm] = psf"
   ]
  },
  {
   "cell_type": "code",
   "execution_count": 0,
   "metadata": {},
   "outputs": [],
   "source": [
    "f, ax = plt.subplots(1, 1, figsize=(3.4, 2.5), dpi=240)\n",
    "\n",
    "for arm in ARMS:\n",
    "    ax.plot(gauss_psf[arm].wave, gauss_psf[arm].sigma, lw=0.5)\n",
    "    ax.plot(gauss_psf[arm].wave, deg_psf[arm].sigma, '--k', lw=0.5)\n",
    "\n",
    "ax.grid()\n",
    "\n",
    "ax.set_xlabel('wavelength [A]')\n",
    "ax.set_ylabel('LSF sigma')"
   ]
  },
  {
   "cell_type": "code",
   "execution_count": 0,
   "metadata": {},
   "outputs": [],
   "source": [
    "from pfs.ga.pfsspec.sim.obsmod.detectors import PfsDetector\n",
    "from pfs.ga.pfsspec.sim.obsmod.detectormaps import PfsDetectorMap\n",
    "from pfs.ga.pfsspec.core.obsmod.resampling import FluxConservingResampler\n",
    "\n",
    "detector = {}\n",
    "\n",
    "for arm in ARMS:\n",
    "    detector[arm] = PfsDetector()\n",
    "    detector[arm].load_json(DETECTOR_PATH.format(arm))\n",
    "    detector[arm].map = PfsDetectorMap()\n",
    "    detector[arm].map.load(DETECTORMAP_PATH.format(arm[0]))\n",
    "\n",
    "    # print(arm, detector[arm].map.default_fiberid)\n",
    "    # print(arm, detector[arm].map.get_wave()[0].shape, detector[arm].map.get_wave()[0][[0, -1]], detector[arm].wave)"
   ]
  },
  {
   "cell_type": "code",
   "execution_count": 0,
   "metadata": {},
   "outputs": [],
   "source": [
    "from pfs.ga.pfsspec.core.util.copy import safe_deep_copy\n",
    "\n",
    "spec = xshooter.spectra[12]\n",
    "\n",
    "nspec = type(spec)()\n",
    "nspec.wave = safe_deep_copy(spec.wave) * 10\n",
    "#nspec.wave_edges = safe_deep_copy(spec.wave_edges)\n",
    "nspec.flux = safe_deep_copy(spec.flux)\n",
    "nspec.flux_err = safe_deep_copy(spec.flux_err)\n",
    "nspec.flux_dered = safe_deep_copy(spec.flux_dered)\n",
    "\n",
    "res = FluxConservingResampler()\n",
    "wave, wave_edges = detector['mr'].get_wave()\n",
    "\n",
    "nspec.convolve_psf(deg_psf['mr'])\n",
    "nspec.apply_resampler(res, wave, wave_edges)"
   ]
  },
  {
   "cell_type": "code",
   "execution_count": 0,
   "metadata": {},
   "outputs": [],
   "source": [
    "spec.flux_err.max(), nspec.flux_err.max()"
   ]
  },
  {
   "cell_type": "code",
   "execution_count": 0,
   "metadata": {},
   "outputs": [],
   "source": [
    "f, ax = plt.subplots(1, 1, figsize=(3.4, 2.5), dpi=240)\n",
    "\n",
    "#ax.plot(nspec.wave, nspec.flux, '-r', lw=0.5)\n",
    "ax.plot(nspec.wave, nspec.flux_err, '-r', lw=0.5)\n",
    "\n",
    "#ax.plot(spec.wave * 10, spec.flux, '-k', lw=0.5)\n",
    "ax.plot(spec.wave * 10, spec.flux_err, '-k', lw=0.5)\n",
    "\n",
    "ax.set_xlim(8450, 8700)\n",
    "ax.set_ylim(0, 0.2e-13)"
   ]
  },
  {
   "cell_type": "code",
   "execution_count": 0,
   "metadata": {},
   "outputs": [],
   "source": [
    "spec.Fe_H, spec.T_eff, spec.log_g"
   ]
  },
  {
   "cell_type": "code",
   "execution_count": 0,
   "metadata": {},
   "outputs": [],
   "source": [
    "model = grid.get_nearest_model(M_H=spec.Fe_H, T_eff=spec.T_eff, log_g=spec.log_g, a_M=0)"
   ]
  },
  {
   "cell_type": "code",
   "execution_count": 0,
   "metadata": {},
   "outputs": [],
   "source": [
    "f, ax = plt.subplots(1, 1, figsize=(3.4, 2.5), dpi=240)\n",
    "\n",
    "#mask = (790 <= wave) & (wave <= 796)\n",
    "#mask = np.full_like(spec.wave, True, dtype=np.bool)\n",
    "\n",
    "ax.plot(spec.wave * 10, spec.flux, '-k', lw=0.5)\n",
    "ax.plot(nspec.wave, nspec.flux, '-r', lw=0.5)\n",
    "ax.plot(model.wave, model.flux * 0.5e-26, '-b', lw=0.5)\n",
    "\n",
    "# ax.set_xlim(7000, 9000)   # mr\n",
    "ax.set_xlim(8450, 8700)\n",
    "ax.set_ylim(0, 1.25e-12)\n",
    "#ax.set_ylim(0, 1.5 * np.nanquantile(spec.flux[mask], 0.99))\n",
    "\n",
    "#ax.plot(nspec.wave, nspec.flux_err, '-r', lw=0.5)\n",
    "#ax.plot(spec.wave * 10, spec.flux_err, '-k', lw=0.5)\n",
    "\n",
    "ax.set_xlabel('wavelength [A]')\n",
    "ax.set_ylabel(r'$F_\\lambda$ [erg/s/cm2/A]')\n",
    "\n",
    "ax.set_title('[Fe/H]={}, T_eff={}, log_g={}'.format(spec.Fe_H, spec.T_eff, spec.log_g))\n",
    "\n",
    "ax.grid()\n",
    "\n",
    "f.tight_layout()"
   ]
  },
  {
   "cell_type": "code",
   "execution_count": 0,
   "metadata": {},
   "outputs": [],
   "source": [
    "mask = (detector['mr'].wave[0] <= spec.wave * 10) & (spec.wave * 10 < detector['mr'].wave[1])\n",
    "snr = spec.flux[mask] / spec.flux_err[mask]\n",
    "snr_xs = np.quantile(snr, 0.95)\n",
    "snr_xs"
   ]
  },
  {
   "cell_type": "code",
   "execution_count": 0,
   "metadata": {},
   "outputs": [],
   "source": [
    "nspec.flux_err"
   ]
  },
  {
   "cell_type": "code",
   "execution_count": 0,
   "metadata": {},
   "outputs": [],
   "source": [
    "mask = (detector['mr'].wave[0] <= nspec.wave) & (nspec.wave < detector['mr'].wave[1])\n",
    "snr = nspec.flux[mask] / nspec.flux_err[mask]\n",
    "snr_pfs = np.quantile(snr, 0.95)\n",
    "snr_pfs"
   ]
  },
  {
   "cell_type": "markdown",
   "metadata": {},
   "source": [
    "# Add back noise to match SNR"
   ]
  },
  {
   "cell_type": "code",
   "execution_count": 0,
   "metadata": {},
   "outputs": [],
   "source": [
    "f, ax = plt.subplots(1, 1, figsize=(3.4, 2.5), dpi=240)\n",
    "\n",
    "#mask = (790 <= wave) & (wave <= 796)\n",
    "#mask = np.full_like(spec.wave, True, dtype=np.bool)\n",
    "\n",
    "#ax.plot(spec.wave * 10, spec.flux, '-k', lw=0.5)\n",
    "#ax.plot(nspec.wave, nspec.flux, '-r', lw=0.5)\n",
    "#ax.plot(model.wave, model.flux * 0.5e-26, '-b', lw=0.5)\n",
    "\n",
    "ax.plot(nspec.wave, nspec.flux, '-k', lw=0.5)\n",
    "ax.plot(nspec.wave, nspec.flux + 10 * nspec.flux_err * np.random.normal(size=nspec.wave.shape), '-r', lw=0.5)\n",
    "\n",
    "# ax.set_xlim(7000, 9000)   # mr\n",
    "ax.set_xlim(8450, 8700)\n",
    "ax.set_ylim(0, 1.25e-12)\n",
    "#ax.set_ylim(0, 1.5 * np.nanquantile(spec.flux[mask], 0.99))\n",
    "\n",
    "#ax.plot(nspec.wave, nspec.flux_err, '-r', lw=0.5)\n",
    "ax.plot(spec.wave * 10, spec.flux_err * 10, '-k', lw=0.5)\n",
    "\n",
    "ax.set_xlabel('wavelength [A]')\n",
    "ax.set_ylabel(r'$F_\\lambda$ [erg/s/cm2/A]')\n",
    "\n",
    "ax.set_title('[Fe/H]={}, T_eff={}, log_g={}'.format(spec.Fe_H, spec.T_eff, spec.log_g))\n",
    "\n",
    "ax.grid()\n",
    "\n",
    "f.tight_layout()"
   ]
  },
  {
   "cell_type": "code",
   "execution_count": 0,
   "metadata": {},
   "outputs": [],
   "source": []
  }
 ],
 "metadata": {
  "kernelspec": {
   "display_name": "Python 3.7.6 ('astro-dnn')",
   "language": "python",
   "name": "python3"
  },
  "language_info": {
   "codemirror_mode": {
    "name": "ipython",
    "version": 3
   },
   "file_extension": ".py",
   "mimetype": "text/x-python",
   "name": "python",
   "nbconvert_exporter": "python",
   "pygments_lexer": "ipython3",
   "version": "3.7.6"
  },
  "vscode": {
   "interpreter": {
    "hash": "5a67ff4efb25b8aabbb759a9c23213a4102b92e186db45108ff57ab5b324cee0"
   }
  }
 },
 "nbformat": 4,
 "nbformat_minor": 2
}