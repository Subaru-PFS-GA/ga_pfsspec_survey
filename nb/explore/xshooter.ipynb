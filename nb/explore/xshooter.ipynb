{
 "cells": [
  {
   "cell_type": "code",
   "execution_count": 0,
   "metadata": {},
   "outputs": [],
   "source": [
    "DATA_DIR = '/datascope/subaru/data/catalogs/xshooter/'\n",
    "LIST_FILE = DATA_DIR + '_list.csv'\n",
    "\n",
    "PROJECT_PATH = '/home/dobos/project/ga_isochrones/python:' + \\\n",
    "    '/home/dobos/project/ga_pfsspec_all/python:' + \\\n",
    "    '/home/dobos/project/pysynphot'\n",
    "\n",
    "GRID_PATH = '/datascope/subaru/data/pfsspec/models/stellar/grid/phoenix/phoenix_HiRes'"
   ]
  },
  {
   "cell_type": "markdown",
   "metadata": {},
   "source": [
    "# XShooter DR3\n",
    "\n",
    "Verro et al.\n",
    "* Paper in A&A: https://www.aanda.org/articles/aa/pdf/2022/04/aa42388-21.pdf\n",
    "* Data in Vizier: http://cdsarc.u-strasbg.fr/viz-bin/cat/J/A+A/660/A34\n",
    "\n",
    "This moderate-to-high resolution, near-ultraviolet\u0002to-near-infrared (350–2480 nm, R ∼ 10 000) spectral library is composed of 830 stellar spectra of 683 stars. \n",
    "\n",
    "CSV file donwloaded from Vizier using the SQL search tool with the query:\n",
    "\n",
    "```sql\n",
    "SELECT [default] FROM obscore\n",
    "WHERE obs_collection='J/A+A/660/A34'\n",
    "```"
   ]
  },
  {
   "cell_type": "code",
   "execution_count": 0,
   "metadata": {},
   "outputs": [],
   "source": [
    "import os, sys\n",
    "import requests\n",
    "import numpy as np\n",
    "import pandas as pd\n",
    "import matplotlib.pyplot as plt\n",
    "from tqdm import notebook as tqdm\n",
    "from astropy.io import fits\n",
    "from glob import glob"
   ]
  },
  {
   "cell_type": "code",
   "execution_count": 0,
   "metadata": {},
   "outputs": [],
   "source": [
    "# Allow load project as module\n",
    "for p in reversed(PROJECT_PATH.split(':')):\n",
    "    sys.path.insert(0, p)\n",
    "\n",
    "os.environ['PYTHONPATH'] = PROJECT_PATH.split(':')[0]"
   ]
  },
  {
   "cell_type": "code",
   "execution_count": 0,
   "metadata": {},
   "outputs": [],
   "source": [
    "os.environ['PYTHONPATH']"
   ]
  },
  {
   "cell_type": "code",
   "execution_count": 0,
   "metadata": {},
   "outputs": [],
   "source": [
    "%matplotlib inline"
   ]
  },
  {
   "cell_type": "markdown",
   "metadata": {},
   "source": [
    "# Load xshooter spectrum"
   ]
  },
  {
   "cell_type": "code",
   "execution_count": 0,
   "metadata": {},
   "outputs": [],
   "source": [
    "df = pd.read_csv(LIST_FILE)\n",
    "df.shape"
   ]
  },
  {
   "cell_type": "code",
   "execution_count": 0,
   "metadata": {},
   "outputs": [],
   "source": [
    "df.columns"
   ]
  },
  {
   "cell_type": "code",
   "execution_count": 0,
   "metadata": {},
   "outputs": [],
   "source": [
    "len(df['obs_id'].unique())"
   ]
  },
  {
   "cell_type": "markdown",
   "metadata": {},
   "source": [
    "# Download data"
   ]
  },
  {
   "cell_type": "code",
   "execution_count": 0,
   "metadata": {},
   "outputs": [],
   "source": [
    "t = tqdm.tqdm(total=df.shape[0])\n",
    "for i, r in df.iterrows():\n",
    "    url = r['access_url']\n",
    "    fn = os.path.join(DATA_DIR, r['obs_id'])\n",
    "    if not os.path.isfile(fn):\n",
    "        res = requests.get(url)\n",
    "        with open(fn, 'wb') as f:\n",
    "            f.write(res.content)\n",
    "    t.update(1)"
   ]
  },
  {
   "cell_type": "markdown",
   "metadata": {},
   "source": [
    "# Read all FITS headers and write to file"
   ]
  },
  {
   "cell_type": "code",
   "execution_count": 0,
   "metadata": {},
   "outputs": [],
   "source": [
    "fn = os.path.join(DATA_DIR, '_headers.csv')\n",
    "if not os.path.isfile(fn):\n",
    "    files = glob(os.path.join(DATA_DIR, '*.fits'))\n",
    "    df = None\n",
    "\n",
    "    for fn in files:\n",
    "        hdus = fits.open(fn, memmap=False)\n",
    "        headers = { k: hdus[0].header[k] for k in hdus[0].header.keys() }\n",
    "        \n",
    "        if df is None:\n",
    "            df = pd.DataFrame(headers, index=['XSL_ID'])\n",
    "        else:\n",
    "            df = df.append(headers, ignore_index=True)\n",
    "\n",
    "df.shape"
   ]
  },
  {
   "cell_type": "code",
   "execution_count": 0,
   "metadata": {},
   "outputs": [],
   "source": [
    "fn = os.path.join(DATA_DIR, '_headers.csv')\n",
    "if not os.path.isfile(fn):\n",
    "    df.to_csv(fn)"
   ]
  },
  {
   "cell_type": "code",
   "execution_count": 0,
   "metadata": {},
   "outputs": [],
   "source": [
    "df"
   ]
  },
  {
   "cell_type": "code",
   "execution_count": 0,
   "metadata": {},
   "outputs": [],
   "source": [
    "list(df['target_name'])"
   ]
  },
  {
   "cell_type": "markdown",
   "metadata": {},
   "source": [
    "# Read FITS and plot"
   ]
  },
  {
   "cell_type": "code",
   "execution_count": 0,
   "metadata": {},
   "outputs": [],
   "source": [
    "fn = os.path.join(DATA_DIR, 'xsl_spectrum_MD004_merged_scl.fits')\n",
    "hdus = fits.open(fn, memmap=False)\n",
    "for h in hdus:\n",
    "    print(h)"
   ]
  },
  {
   "cell_type": "code",
   "execution_count": 0,
   "metadata": {},
   "outputs": [],
   "source": [
    "hdus[0].header"
   ]
  },
  {
   "cell_type": "code",
   "execution_count": 0,
   "metadata": {},
   "outputs": [],
   "source": [
    "hdus[0].header['XSL_ID'], hdus[0].header['OBJECT'], hdus[0].header['SNR'], hdus[0].header['SPEC_RES']\n",
    "\n",
    "\n",
    "# BARY_COR      / Barycentric radial velocity correction value \n",
    "# REST_VIS      / VIS cz value in km/s \n",
    "# REST_UVB      / UVB cz value in km/s \n",
    "# AV_VAL        / Total extinction in V"
   ]
  },
  {
   "cell_type": "markdown",
   "metadata": {},
   "source": [
    "HD014938 in Simbad: https://simbad.u-strasbg.fr/simbad/sim-id?protocol=html&Ident=HD014938\n",
    "\n",
    "M/H"
   ]
  },
  {
   "cell_type": "code",
   "execution_count": 0,
   "metadata": {},
   "outputs": [],
   "source": []
  },
  {
   "cell_type": "code",
   "execution_count": 0,
   "metadata": {},
   "outputs": [],
   "source": [
    "wave = hdus[1].data['WAVE']\n",
    "flux = hdus[1].data['FLUX']\n",
    "flux_dr = hdus[1].data['FLUX_DR'] if 'FLUX_DR' in hdus[1].data else None      # dereddened flux?\n",
    "flux_err = hdus[1].data['ERR']"
   ]
  },
  {
   "cell_type": "code",
   "execution_count": 0,
   "metadata": {},
   "outputs": [],
   "source": [
    "flux"
   ]
  },
  {
   "cell_type": "code",
   "execution_count": 0,
   "metadata": {},
   "outputs": [],
   "source": [
    "f, ax = plt.subplots(1, 1, figsize=(4, 3), dpi=240)\n",
    "\n",
    "#mask = (790 <= wave) & (wave <= 796)\n",
    "mask = np.full_like(wave, True, dtype=np.bool)\n",
    "print(mask.sum())\n",
    "\n",
    "if flux_dr is not None:\n",
    "    ax.plot(wave[mask], flux_dr[mask], lw=0.3)\n",
    "ax.plot(wave[mask], flux[mask], lw=0.3)\n",
    "#ax.plot(wave[mask], flux_err[mask], lw=0.3)\n",
    "\n",
    "ax.grid()"
   ]
  },
  {
   "cell_type": "markdown",
   "metadata": {},
   "source": [
    "# Spectral resolution"
   ]
  },
  {
   "cell_type": "code",
   "execution_count": 0,
   "metadata": {},
   "outputs": [],
   "source": [
    "wref = (0.5 * (wave[1:] + wave[:-1]))\n",
    "\n",
    "mask = (700 <= wref) & (wref <= 900)\n",
    "\n",
    "R = wref / np.diff(wave)\n",
    "R[mask].mean(), R[mask].std()"
   ]
  },
  {
   "cell_type": "code",
   "execution_count": 0,
   "metadata": {},
   "outputs": [],
   "source": []
  },
  {
   "cell_type": "markdown",
   "metadata": {},
   "source": [
    "# Load model grid"
   ]
  },
  {
   "cell_type": "code",
   "execution_count": 0,
   "metadata": {},
   "outputs": [],
   "source": [
    "from pfs.ga.pfsspec.core.grid import ArrayGrid\n",
    "from pfs.ga.pfsspec.stellar.grid import ModelGrid\n",
    "from pfs.ga.pfsspec.stellar.grid.bosz import Bosz\n",
    "from pfs.ga.pfsspec.stellar.grid.phoenix import Phoenix"
   ]
  },
  {
   "cell_type": "code",
   "execution_count": 0,
   "metadata": {},
   "outputs": [],
   "source": [
    "fn = os.path.join(GRID_PATH, 'spectra.h5')\n",
    "grid = ModelGrid(Phoenix(), ArrayGrid)\n",
    "grid.preload_arrays = False\n",
    "grid.load(fn, format='h5')"
   ]
  },
  {
   "cell_type": "code",
   "execution_count": 0,
   "metadata": {},
   "outputs": [],
   "source": []
  }
 ],
 "metadata": {
  "kernelspec": {
   "display_name": "Python 3.7.6 ('astro-dnn')",
   "language": "python",
   "name": "python3"
  },
  "language_info": {
   "codemirror_mode": {
    "name": "ipython",
    "version": 3
   },
   "file_extension": ".py",
   "mimetype": "text/x-python",
   "name": "python",
   "nbconvert_exporter": "python",
   "pygments_lexer": "ipython3",
   "version": "3.7.6"
  },
  "vscode": {
   "interpreter": {
    "hash": "5a67ff4efb25b8aabbb759a9c23213a4102b92e186db45108ff57ab5b324cee0"
   }
  }
 },
 "nbformat": 4,
 "nbformat_minor": 2
}